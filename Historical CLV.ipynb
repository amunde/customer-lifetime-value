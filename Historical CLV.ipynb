{
 "cells": [
  {
   "cell_type": "markdown",
   "metadata": {},
   "source": [
    "# Importing libraries and loading files"
   ]
  },
  {
   "cell_type": "code",
   "execution_count": 39,
   "metadata": {
    "ExecuteTime": {
     "end_time": "2020-09-16T16:45:48.968534Z",
     "start_time": "2020-09-16T16:45:48.949080Z"
    },
    "code_folding": []
   },
   "outputs": [],
   "source": [
    "# Importing libraries and loading data\n",
    "import pandas as pd\n",
    "import numpy as np\n",
    "import matplotlib.pyplot as plt\n",
    "import seaborn as sns\n",
    "import re\n",
    "\n",
    "customer_data = pd.read_csv(\"clv_transactions.csv\")\n",
    "\n",
    "# Converting object to datetime\n",
    "customer_data[\"TransactionDate\"] = pd.to_datetime(customer_data[\"TransactionDate\"], format= \"%m/%d/%Y\")"
   ]
  },
  {
   "cell_type": "markdown",
   "metadata": {},
   "source": [
    "# Step 1: Understanding the data"
   ]
  },
  {
   "cell_type": "code",
   "execution_count": 40,
   "metadata": {
    "ExecuteTime": {
     "end_time": "2020-09-16T16:45:49.788899Z",
     "start_time": "2020-09-16T16:45:49.781133Z"
    }
   },
   "outputs": [
    {
     "data": {
      "text/html": [
       "<div>\n",
       "<style scoped>\n",
       "    .dataframe tbody tr th:only-of-type {\n",
       "        vertical-align: middle;\n",
       "    }\n",
       "\n",
       "    .dataframe tbody tr th {\n",
       "        vertical-align: top;\n",
       "    }\n",
       "\n",
       "    .dataframe thead th {\n",
       "        text-align: right;\n",
       "    }\n",
       "</style>\n",
       "<table border=\"1\" class=\"dataframe\">\n",
       "  <thead>\n",
       "    <tr style=\"text-align: right;\">\n",
       "      <th></th>\n",
       "      <th>TransactionID</th>\n",
       "      <th>TransactionDate</th>\n",
       "      <th>CustomerID</th>\n",
       "      <th>Amount</th>\n",
       "    </tr>\n",
       "  </thead>\n",
       "  <tbody>\n",
       "    <tr>\n",
       "      <td>0</td>\n",
       "      <td>1</td>\n",
       "      <td>2012-09-04</td>\n",
       "      <td>1</td>\n",
       "      <td>20.26</td>\n",
       "    </tr>\n",
       "    <tr>\n",
       "      <td>1</td>\n",
       "      <td>2</td>\n",
       "      <td>2012-05-15</td>\n",
       "      <td>2</td>\n",
       "      <td>10.87</td>\n",
       "    </tr>\n",
       "    <tr>\n",
       "      <td>2</td>\n",
       "      <td>3</td>\n",
       "      <td>2014-05-23</td>\n",
       "      <td>2</td>\n",
       "      <td>2.21</td>\n",
       "    </tr>\n",
       "    <tr>\n",
       "      <td>3</td>\n",
       "      <td>4</td>\n",
       "      <td>2014-10-24</td>\n",
       "      <td>2</td>\n",
       "      <td>10.48</td>\n",
       "    </tr>\n",
       "    <tr>\n",
       "      <td>4</td>\n",
       "      <td>5</td>\n",
       "      <td>2012-10-13</td>\n",
       "      <td>2</td>\n",
       "      <td>3.94</td>\n",
       "    </tr>\n",
       "  </tbody>\n",
       "</table>\n",
       "</div>"
      ],
      "text/plain": [
       "   TransactionID TransactionDate  CustomerID  Amount\n",
       "0              1      2012-09-04           1   20.26\n",
       "1              2      2012-05-15           2   10.87\n",
       "2              3      2014-05-23           2    2.21\n",
       "3              4      2014-10-24           2   10.48\n",
       "4              5      2012-10-13           2    3.94"
      ]
     },
     "execution_count": 40,
     "metadata": {},
     "output_type": "execute_result"
    }
   ],
   "source": [
    "customer_data.head(5)"
   ]
  },
  {
   "cell_type": "code",
   "execution_count": 41,
   "metadata": {
    "ExecuteTime": {
     "end_time": "2020-09-16T16:45:49.985526Z",
     "start_time": "2020-09-16T16:45:49.979820Z"
    }
   },
   "outputs": [
    {
     "name": "stdout",
     "output_type": "stream",
     "text": [
      "<class 'pandas.core.frame.DataFrame'>\n",
      "RangeIndex: 4186 entries, 0 to 4185\n",
      "Data columns (total 4 columns):\n",
      "TransactionID      4186 non-null int64\n",
      "TransactionDate    4186 non-null datetime64[ns]\n",
      "CustomerID         4186 non-null int64\n",
      "Amount             4186 non-null float64\n",
      "dtypes: datetime64[ns](1), float64(1), int64(2)\n",
      "memory usage: 130.9 KB\n"
     ]
    }
   ],
   "source": [
    "customer_data.info()"
   ]
  },
  {
   "cell_type": "markdown",
   "metadata": {},
   "source": [
    "## Checking for missing values"
   ]
  },
  {
   "cell_type": "code",
   "execution_count": 42,
   "metadata": {
    "ExecuteTime": {
     "end_time": "2020-09-16T16:45:50.742113Z",
     "start_time": "2020-09-16T16:45:50.736757Z"
    }
   },
   "outputs": [
    {
     "data": {
      "text/plain": [
       "TransactionID      0\n",
       "TransactionDate    0\n",
       "CustomerID         0\n",
       "Amount             0\n",
       "dtype: int64"
      ]
     },
     "execution_count": 42,
     "metadata": {},
     "output_type": "execute_result"
    }
   ],
   "source": [
    "customer_data.isna().sum()"
   ]
  },
  {
   "cell_type": "markdown",
   "metadata": {},
   "source": [
    "There seem to be no missing values in the data set"
   ]
  },
  {
   "cell_type": "markdown",
   "metadata": {},
   "source": [
    "## Checking the range of dates"
   ]
  },
  {
   "cell_type": "code",
   "execution_count": 43,
   "metadata": {
    "ExecuteTime": {
     "end_time": "2020-09-16T16:45:51.884378Z",
     "start_time": "2020-09-16T16:45:51.878382Z"
    }
   },
   "outputs": [
    {
     "data": {
      "text/plain": [
       "min   2010-01-04\n",
       "max   2015-12-31\n",
       "Name: TransactionDate, dtype: datetime64[ns]"
      ]
     },
     "execution_count": 43,
     "metadata": {},
     "output_type": "execute_result"
    }
   ],
   "source": [
    "\n",
    "customer_data[\"TransactionDate\"].agg([min, max])"
   ]
  },
  {
   "cell_type": "markdown",
   "metadata": {
    "ExecuteTime": {
     "end_time": "2020-09-09T23:50:32.978036Z",
     "start_time": "2020-09-09T23:50:32.973916Z"
    }
   },
   "source": [
    "The oldest date is 1/4/2010 and the last date of the transactions is 12/31/2015"
   ]
  },
  {
   "cell_type": "markdown",
   "metadata": {
    "ExecuteTime": {
     "end_time": "2020-09-09T23:52:03.246647Z",
     "start_time": "2020-09-09T23:52:03.244678Z"
    }
   },
   "source": [
    "## Number of unique customers"
   ]
  },
  {
   "cell_type": "code",
   "execution_count": 44,
   "metadata": {
    "ExecuteTime": {
     "end_time": "2020-09-16T16:45:52.845386Z",
     "start_time": "2020-09-16T16:45:52.841333Z"
    }
   },
   "outputs": [
    {
     "data": {
      "text/plain": [
       "1000"
      ]
     },
     "execution_count": 44,
     "metadata": {},
     "output_type": "execute_result"
    }
   ],
   "source": [
    "customer_data[\"CustomerID\"].nunique()"
   ]
  },
  {
   "cell_type": "markdown",
   "metadata": {},
   "source": [
    "There are 1000 unique customer Ids in the data"
   ]
  },
  {
   "cell_type": "markdown",
   "metadata": {},
   "source": [
    "## Descriptive stats for amount field"
   ]
  },
  {
   "cell_type": "code",
   "execution_count": 88,
   "metadata": {
    "ExecuteTime": {
     "end_time": "2020-09-16T18:56:08.579010Z",
     "start_time": "2020-09-16T18:56:08.561087Z"
    }
   },
   "outputs": [
    {
     "data": {
      "text/html": [
       "<div>\n",
       "<style scoped>\n",
       "    .dataframe tbody tr th:only-of-type {\n",
       "        vertical-align: middle;\n",
       "    }\n",
       "\n",
       "    .dataframe tbody tr th {\n",
       "        vertical-align: top;\n",
       "    }\n",
       "\n",
       "    .dataframe thead th {\n",
       "        text-align: right;\n",
       "    }\n",
       "</style>\n",
       "<table border=\"1\" class=\"dataframe\">\n",
       "  <thead>\n",
       "    <tr style=\"text-align: right;\">\n",
       "      <th></th>\n",
       "      <th>count</th>\n",
       "      <th>mean</th>\n",
       "      <th>std</th>\n",
       "      <th>min</th>\n",
       "      <th>25%</th>\n",
       "      <th>50%</th>\n",
       "      <th>75%</th>\n",
       "      <th>max</th>\n",
       "    </tr>\n",
       "  </thead>\n",
       "  <tbody>\n",
       "    <tr>\n",
       "      <td>Amount</td>\n",
       "      <td>4186.0</td>\n",
       "      <td>9.03</td>\n",
       "      <td>38.72</td>\n",
       "      <td>-1.0</td>\n",
       "      <td>3.31</td>\n",
       "      <td>6.88</td>\n",
       "      <td>11.69</td>\n",
       "      <td>2033.0</td>\n",
       "    </tr>\n",
       "  </tbody>\n",
       "</table>\n",
       "</div>"
      ],
      "text/plain": [
       "         count  mean    std  min   25%   50%    75%     max\n",
       "Amount  4186.0  9.03  38.72 -1.0  3.31  6.88  11.69  2033.0"
      ]
     },
     "execution_count": 88,
     "metadata": {},
     "output_type": "execute_result"
    }
   ],
   "source": [
    "round(customer_data[[\"Amount\"]].describe().transpose(), 2)"
   ]
  },
  {
   "cell_type": "code",
   "execution_count": 90,
   "metadata": {
    "ExecuteTime": {
     "end_time": "2020-09-16T18:56:54.352127Z",
     "start_time": "2020-09-16T18:56:54.348329Z"
    }
   },
   "outputs": [
    {
     "data": {
      "text/plain": [
       "1499.54"
      ]
     },
     "execution_count": 90,
     "metadata": {},
     "output_type": "execute_result"
    }
   ],
   "source": [
    "round(customer_data[\"Amount\"].var(), 2)"
   ]
  },
  {
   "cell_type": "markdown",
   "metadata": {
    "ExecuteTime": {
     "end_time": "2020-09-09T23:53:58.369421Z",
     "start_time": "2020-09-09T23:53:58.167960Z"
    }
   },
   "source": [
    "- Mean = 9.03\n",
    "- Median = 6.88\n",
    "- Min = -1\n",
    "- Max = 2033\n",
    "- Std dev = 38.72\n",
    "- Variance = 1499.54\n"
   ]
  },
  {
   "cell_type": "markdown",
   "metadata": {},
   "source": [
    "## Transaction amounts over time"
   ]
  },
  {
   "cell_type": "code",
   "execution_count": null,
   "metadata": {},
   "outputs": [],
   "source": [
    "customer_data_wo_outliers"
   ]
  },
  {
   "cell_type": "code",
   "execution_count": 46,
   "metadata": {
    "ExecuteTime": {
     "end_time": "2020-09-16T16:45:57.371858Z",
     "start_time": "2020-09-16T16:45:57.191780Z"
    }
   },
   "outputs": [
    {
     "data": {
      "text/plain": [
       "(733863.0, 736255.1603494624)"
      ]
     },
     "execution_count": 46,
     "metadata": {},
     "output_type": "execute_result"
    },
    {
     "data": {
      "image/png": "[encoded data removed]",
      "text/plain": [
       "<Figure size 432x288 with 1 Axes>"
      ]
     },
     "metadata": {
      "needs_background": "light"
     },
     "output_type": "display_data"
    }
   ],
   "source": [
    "# Considering amounts without high values for better visualization\n",
    "customer_data_wo_outliers = customer_data.loc[customer_data[\"Amount\"]<500, ];\n",
    "\n",
    "g = sns.scatterplot(data=customer_data_wo_outliers, x = \"TransactionDate\", y = \"Amount\");\n",
    "\n",
    "g.set(title = \"Amount of transactions over time\")\n",
    "\n",
    "g.set_xlim(pd.datetime(2010, 4, 1))"
   ]
  },
  {
   "cell_type": "markdown",
   "metadata": {},
   "source": [
    "There seems to be a slight increase in the spending but there is no obvious pattern in it"
   ]
  },
  {
   "cell_type": "markdown",
   "metadata": {},
   "source": [
    "# Step 2: Checking for outliers"
   ]
  },
  {
   "cell_type": "markdown",
   "metadata": {
    "ExecuteTime": {
     "end_time": "2020-09-10T00:15:24.097344Z",
     "start_time": "2020-09-10T00:15:24.095304Z"
    }
   },
   "source": [
    "## Checking the distribution of the amount column"
   ]
  },
  {
   "cell_type": "code",
   "execution_count": 91,
   "metadata": {
    "ExecuteTime": {
     "end_time": "2020-09-16T19:01:53.306282Z",
     "start_time": "2020-09-16T19:01:53.102664Z"
    }
   },
   "outputs": [
    {
     "data": {
      "text/plain": [
       "[]"
      ]
     },
     "execution_count": 91,
     "metadata": {},
     "output_type": "execute_result"
    },
    {
     "data": {
      "image/png": "[encoded data removed]",
      "text/plain": [
       "<Figure size 432x288 with 1 Axes>"
      ]
     },
     "metadata": {
      "needs_background": "light"
     },
     "output_type": "display_data"
    }
   ],
   "source": [
    "sns.distplot(customer_data[\"Amount\"])\n",
    "plt.plot()"
   ]
  },
  {
   "cell_type": "markdown",
   "metadata": {},
   "source": [
    "The data has a very long tail. This means that there are outliers in the data. "
   ]
  },
  {
   "cell_type": "code",
   "execution_count": 49,
   "metadata": {
    "ExecuteTime": {
     "end_time": "2020-09-16T16:46:00.870569Z",
     "start_time": "2020-09-16T16:46:00.853289Z"
    }
   },
   "outputs": [
    {
     "data": {
      "text/html": [
       "<div>\n",
       "<style scoped>\n",
       "    .dataframe tbody tr th:only-of-type {\n",
       "        vertical-align: middle;\n",
       "    }\n",
       "\n",
       "    .dataframe tbody tr th {\n",
       "        vertical-align: top;\n",
       "    }\n",
       "\n",
       "    .dataframe thead th {\n",
       "        text-align: right;\n",
       "    }\n",
       "</style>\n",
       "<table border=\"1\" class=\"dataframe\">\n",
       "  <thead>\n",
       "    <tr style=\"text-align: right;\">\n",
       "      <th></th>\n",
       "      <th>count</th>\n",
       "      <th>mean</th>\n",
       "      <th>std</th>\n",
       "      <th>min</th>\n",
       "      <th>25%</th>\n",
       "      <th>50%</th>\n",
       "      <th>75%</th>\n",
       "      <th>max</th>\n",
       "    </tr>\n",
       "  </thead>\n",
       "  <tbody>\n",
       "    <tr>\n",
       "      <td>Amount</td>\n",
       "      <td>4186.0</td>\n",
       "      <td>9.03</td>\n",
       "      <td>38.72</td>\n",
       "      <td>-1.0</td>\n",
       "      <td>3.31</td>\n",
       "      <td>6.88</td>\n",
       "      <td>11.69</td>\n",
       "      <td>2033.0</td>\n",
       "    </tr>\n",
       "  </tbody>\n",
       "</table>\n",
       "</div>"
      ],
      "text/plain": [
       "         count  mean    std  min   25%   50%    75%     max\n",
       "Amount  4186.0  9.03  38.72 -1.0  3.31  6.88  11.69  2033.0"
      ]
     },
     "execution_count": 49,
     "metadata": {},
     "output_type": "execute_result"
    }
   ],
   "source": [
    "round(customer_data[[\"Amount\"]].describe().transpose(), 2)"
   ]
  },
  {
   "cell_type": "markdown",
   "metadata": {},
   "source": [
    "The max value is 2033 which is very high as compared to the mean calue for 9.03 and the median of 6.88.\n",
    "Also, the mean>median because of which data is right skewed "
   ]
  },
  {
   "cell_type": "markdown",
   "metadata": {},
   "source": [
    "## Removing outliers using +-3 Std Deviations"
   ]
  },
  {
   "cell_type": "code",
   "execution_count": 99,
   "metadata": {
    "ExecuteTime": {
     "end_time": "2020-09-16T19:10:40.466036Z",
     "start_time": "2020-09-16T19:10:40.463116Z"
    }
   },
   "outputs": [],
   "source": [
    "# Extracting std and mean value to use for removing outliers\n",
    "standard_deviation = customer_data[\"Amount\"].std(axis = 0)\n",
    "mean_value = customer_data[\"Amount\"].mean()"
   ]
  },
  {
   "cell_type": "code",
   "execution_count": 65,
   "metadata": {
    "ExecuteTime": {
     "end_time": "2020-09-16T16:49:37.058817Z",
     "start_time": "2020-09-16T16:49:37.053865Z"
    }
   },
   "outputs": [],
   "source": [
    "customer_data_wo_outliers = customer_data.loc[(customer_data[\"Amount\"]< (mean_value + 3*standard_deviation)) & (customer_data[\"Amount\"] > (mean_value - 3*standard_deviation)), ]"
   ]
  },
  {
   "cell_type": "markdown",
   "metadata": {},
   "source": [
    "Removing data points that are more than 3 standard deviations away from the mean\n"
   ]
  },
  {
   "cell_type": "markdown",
   "metadata": {},
   "source": [
    "# Step 3: Determining origin year of customers"
   ]
  },
  {
   "cell_type": "code",
   "execution_count": 101,
   "metadata": {
    "ExecuteTime": {
     "end_time": "2020-09-16T19:11:32.169685Z",
     "start_time": "2020-09-16T19:11:32.140479Z"
    }
   },
   "outputs": [
    {
     "data": {
      "text/html": [
       "<div>\n",
       "<style scoped>\n",
       "    .dataframe tbody tr th:only-of-type {\n",
       "        vertical-align: middle;\n",
       "    }\n",
       "\n",
       "    .dataframe tbody tr th {\n",
       "        vertical-align: top;\n",
       "    }\n",
       "\n",
       "    .dataframe thead th {\n",
       "        text-align: right;\n",
       "    }\n",
       "</style>\n",
       "<table border=\"1\" class=\"dataframe\">\n",
       "  <thead>\n",
       "    <tr style=\"text-align: right;\">\n",
       "      <th></th>\n",
       "      <th>TransactionID</th>\n",
       "      <th>TransactionDate</th>\n",
       "      <th>CustomerID</th>\n",
       "      <th>Amount</th>\n",
       "      <th>Origin Year</th>\n",
       "    </tr>\n",
       "  </thead>\n",
       "  <tbody>\n",
       "    <tr>\n",
       "      <td>0</td>\n",
       "      <td>1</td>\n",
       "      <td>2012-09-04</td>\n",
       "      <td>1</td>\n",
       "      <td>20.26</td>\n",
       "      <td>2012</td>\n",
       "    </tr>\n",
       "    <tr>\n",
       "      <td>1</td>\n",
       "      <td>2</td>\n",
       "      <td>2012-05-15</td>\n",
       "      <td>2</td>\n",
       "      <td>10.87</td>\n",
       "      <td>2012</td>\n",
       "    </tr>\n",
       "    <tr>\n",
       "      <td>2</td>\n",
       "      <td>3</td>\n",
       "      <td>2014-05-23</td>\n",
       "      <td>2</td>\n",
       "      <td>2.21</td>\n",
       "      <td>2012</td>\n",
       "    </tr>\n",
       "    <tr>\n",
       "      <td>3</td>\n",
       "      <td>4</td>\n",
       "      <td>2014-10-24</td>\n",
       "      <td>2</td>\n",
       "      <td>10.48</td>\n",
       "      <td>2012</td>\n",
       "    </tr>\n",
       "    <tr>\n",
       "      <td>4</td>\n",
       "      <td>5</td>\n",
       "      <td>2012-10-13</td>\n",
       "      <td>2</td>\n",
       "      <td>3.94</td>\n",
       "      <td>2012</td>\n",
       "    </tr>\n",
       "    <tr>\n",
       "      <td>...</td>\n",
       "      <td>...</td>\n",
       "      <td>...</td>\n",
       "      <td>...</td>\n",
       "      <td>...</td>\n",
       "      <td>...</td>\n",
       "    </tr>\n",
       "    <tr>\n",
       "      <td>4178</td>\n",
       "      <td>4182</td>\n",
       "      <td>2013-06-23</td>\n",
       "      <td>1000</td>\n",
       "      <td>3.86</td>\n",
       "      <td>2010</td>\n",
       "    </tr>\n",
       "    <tr>\n",
       "      <td>4179</td>\n",
       "      <td>4183</td>\n",
       "      <td>2011-08-07</td>\n",
       "      <td>1000</td>\n",
       "      <td>4.00</td>\n",
       "      <td>2010</td>\n",
       "    </tr>\n",
       "    <tr>\n",
       "      <td>4180</td>\n",
       "      <td>4184</td>\n",
       "      <td>2012-10-07</td>\n",
       "      <td>1000</td>\n",
       "      <td>18.37</td>\n",
       "      <td>2010</td>\n",
       "    </tr>\n",
       "    <tr>\n",
       "      <td>4181</td>\n",
       "      <td>4185</td>\n",
       "      <td>2014-01-09</td>\n",
       "      <td>1000</td>\n",
       "      <td>3.45</td>\n",
       "      <td>2010</td>\n",
       "    </tr>\n",
       "    <tr>\n",
       "      <td>4182</td>\n",
       "      <td>4186</td>\n",
       "      <td>2011-04-30</td>\n",
       "      <td>1000</td>\n",
       "      <td>5.18</td>\n",
       "      <td>2010</td>\n",
       "    </tr>\n",
       "  </tbody>\n",
       "</table>\n",
       "<p>4183 rows × 5 columns</p>\n",
       "</div>"
      ],
      "text/plain": [
       "      TransactionID TransactionDate  CustomerID  Amount  Origin Year\n",
       "0                 1      2012-09-04           1   20.26         2012\n",
       "1                 2      2012-05-15           2   10.87         2012\n",
       "2                 3      2014-05-23           2    2.21         2012\n",
       "3                 4      2014-10-24           2   10.48         2012\n",
       "4                 5      2012-10-13           2    3.94         2012\n",
       "...             ...             ...         ...     ...          ...\n",
       "4178           4182      2013-06-23        1000    3.86         2010\n",
       "4179           4183      2011-08-07        1000    4.00         2010\n",
       "4180           4184      2012-10-07        1000   18.37         2010\n",
       "4181           4185      2014-01-09        1000    3.45         2010\n",
       "4182           4186      2011-04-30        1000    5.18         2010\n",
       "\n",
       "[4183 rows x 5 columns]"
      ]
     },
     "execution_count": 101,
     "metadata": {},
     "output_type": "execute_result"
    }
   ],
   "source": [
    "# Extracting relevant columns and taking first transaction for every customer\n",
    "temp = customer_data_wo_outliers[[\"CustomerID\", \"TransactionDate\"]].groupby(\"CustomerID\").min().reset_index()\n",
    "\n",
    "# Extracting Year from date\n",
    "temp[\"Origin Year\"] = temp[\"TransactionDate\"].apply(lambda x: x.year)\n",
    "\n",
    "temp = temp[[\"CustomerID\", \"Origin Year\"]]\n",
    "\n",
    "customer_data_origin_year = pd.merge(customer_data_wo_outliers, temp, how = \"left\", on = \"CustomerID\")\n",
    "\n",
    "customer_data_origin_year"
   ]
  },
  {
   "cell_type": "markdown",
   "metadata": {},
   "source": [
    "# Step 4: Calculating cumulative transaction amounts"
   ]
  },
  {
   "cell_type": "markdown",
   "metadata": {},
   "source": [
    "Adding transaction year to each row"
   ]
  },
  {
   "cell_type": "code",
   "execution_count": 107,
   "metadata": {
    "ExecuteTime": {
     "end_time": "2020-09-17T00:31:30.041492Z",
     "start_time": "2020-09-17T00:31:29.983884Z"
    }
   },
   "outputs": [],
   "source": [
    "customer_data_origin_year[\"Transaction Year\"] = customer_data_origin_year[\"TransactionDate\"].apply(lambda x: x.year)\n",
    "\n",
    "# For each transaction, calculating the time since the first transaction for the customer\n",
    "customer_data_origin_year[\"Months since first transaction\"]  = (customer_data_origin_year[\"Transaction Year\"] - customer_data_origin_year[\"Origin Year\"] + 1)*12\n",
    "\n",
    "# Getting the cumulative sum over time\n",
    "intermediate = customer_data_origin_year[[\"Origin Year\", \"Months since first transaction\", \"Amount\"]].sort_values(by = [\"Origin Year\", \"Months since first transaction\"]).groupby([\"Origin Year\", \"Months since first transaction\"]).sum()\n",
    "final1 = intermediate.groupby(level=[0]).cumsum().reset_index()\n",
    "\n",
    "# Changing the column names to reflect the date ranges\n",
    "convert = dict(zip([2010, 2011, 2012, 2013, 2014, 2015],['2010-01-01 - 2010-12-31','2011-01-01 - 2011-12-31','2012-01-01 - 2012-12-31','2013-01-01 - 2013-12-31','2014-01-01 - 2014-12-31','2015-01-01 - 2015-12-31']))\n",
    "final1[\"Origin Year\"] = final1[\"Origin Year\"].astype(\"category\")\n",
    "final1[\"Origin Year\"] = final1[\"Origin Year\"].cat.rename_categories(convert)\n"
   ]
  },
  {
   "cell_type": "code",
   "execution_count": 103,
   "metadata": {
    "ExecuteTime": {
     "end_time": "2020-09-16T19:12:52.561328Z",
     "start_time": "2020-09-16T19:12:52.535875Z"
    }
   },
   "outputs": [
    {
     "data": {
      "text/html": [
       "<div>\n",
       "<style scoped>\n",
       "    .dataframe tbody tr th:only-of-type {\n",
       "        vertical-align: middle;\n",
       "    }\n",
       "\n",
       "    .dataframe tbody tr th {\n",
       "        vertical-align: top;\n",
       "    }\n",
       "\n",
       "    .dataframe thead th {\n",
       "        text-align: right;\n",
       "    }\n",
       "</style>\n",
       "<table border=\"1\" class=\"dataframe\">\n",
       "  <thead>\n",
       "    <tr style=\"text-align: right;\">\n",
       "      <th>Months since first transaction</th>\n",
       "      <th>12</th>\n",
       "      <th>24</th>\n",
       "      <th>36</th>\n",
       "      <th>48</th>\n",
       "      <th>60</th>\n",
       "      <th>72</th>\n",
       "    </tr>\n",
       "    <tr>\n",
       "      <th>Origin Year</th>\n",
       "      <th></th>\n",
       "      <th></th>\n",
       "      <th></th>\n",
       "      <th></th>\n",
       "      <th></th>\n",
       "      <th></th>\n",
       "    </tr>\n",
       "  </thead>\n",
       "  <tbody>\n",
       "    <tr>\n",
       "      <td>2010-01-01 - 2010-12-31</td>\n",
       "      <td>2259.67</td>\n",
       "      <td>3614.78</td>\n",
       "      <td>5274.81</td>\n",
       "      <td>6632.37</td>\n",
       "      <td>7930.69</td>\n",
       "      <td>8964.49</td>\n",
       "    </tr>\n",
       "    <tr>\n",
       "      <td>2011-01-01 - 2011-12-31</td>\n",
       "      <td>2238.46</td>\n",
       "      <td>3756.9</td>\n",
       "      <td>5464.99</td>\n",
       "      <td>6702.11</td>\n",
       "      <td>7861.24</td>\n",
       "      <td></td>\n",
       "    </tr>\n",
       "    <tr>\n",
       "      <td>2012-01-01 - 2012-12-31</td>\n",
       "      <td>2181.35</td>\n",
       "      <td>3874.69</td>\n",
       "      <td>5226.86</td>\n",
       "      <td>6501.85</td>\n",
       "      <td></td>\n",
       "      <td></td>\n",
       "    </tr>\n",
       "    <tr>\n",
       "      <td>2013-01-01 - 2013-12-31</td>\n",
       "      <td>2179.85</td>\n",
       "      <td>3608.81</td>\n",
       "      <td>5226.75</td>\n",
       "      <td></td>\n",
       "      <td></td>\n",
       "      <td></td>\n",
       "    </tr>\n",
       "    <tr>\n",
       "      <td>2014-01-01 - 2014-12-31</td>\n",
       "      <td>1830.85</td>\n",
       "      <td>3262.05</td>\n",
       "      <td></td>\n",
       "      <td></td>\n",
       "      <td></td>\n",
       "      <td></td>\n",
       "    </tr>\n",
       "    <tr>\n",
       "      <td>2015-01-01 - 2015-12-31</td>\n",
       "      <td>1912.17</td>\n",
       "      <td></td>\n",
       "      <td></td>\n",
       "      <td></td>\n",
       "      <td></td>\n",
       "      <td></td>\n",
       "    </tr>\n",
       "  </tbody>\n",
       "</table>\n",
       "</div>"
      ],
      "text/plain": [
       "Months since first transaction       12       24       36       48       60  \\\n",
       "Origin Year                                                                   \n",
       "2010-01-01 - 2010-12-31         2259.67  3614.78  5274.81  6632.37  7930.69   \n",
       "2011-01-01 - 2011-12-31         2238.46   3756.9  5464.99  6702.11  7861.24   \n",
       "2012-01-01 - 2012-12-31         2181.35  3874.69  5226.86  6501.85            \n",
       "2013-01-01 - 2013-12-31         2179.85  3608.81  5226.75                     \n",
       "2014-01-01 - 2014-12-31         1830.85  3262.05                              \n",
       "2015-01-01 - 2015-12-31         1912.17                                       \n",
       "\n",
       "Months since first transaction       72  \n",
       "Origin Year                              \n",
       "2010-01-01 - 2010-12-31         8964.49  \n",
       "2011-01-01 - 2011-12-31                  \n",
       "2012-01-01 - 2012-12-31                  \n",
       "2013-01-01 - 2013-12-31                  \n",
       "2014-01-01 - 2014-12-31                  \n",
       "2015-01-01 - 2015-12-31                  "
      ]
     },
     "execution_count": 103,
     "metadata": {},
     "output_type": "execute_result"
    }
   ],
   "source": [
    "final1.pivot_table(index='Origin Year', columns='Months since first transaction', values='Amount', fill_value = \"\")"
   ]
  },
  {
   "cell_type": "markdown",
   "metadata": {
    "ExecuteTime": {
     "end_time": "2020-09-10T02:12:40.690158Z",
     "start_time": "2020-09-10T02:12:40.684984Z"
    }
   },
   "source": [
    "# Step 5: Calculate new customers by origin year in each year "
   ]
  },
  {
   "cell_type": "code",
   "execution_count": 104,
   "metadata": {
    "ExecuteTime": {
     "end_time": "2020-09-16T19:15:38.336585Z",
     "start_time": "2020-09-16T19:15:38.301618Z"
    }
   },
   "outputs": [],
   "source": [
    "# Extracting the transaction year\n",
    "customer_data_origin_year[\"Transaction Year\"] = customer_data_origin_year[\"TransactionDate\"].apply(lambda x: x.year)\n",
    "\n",
    "# Calculating the time since first transaction for every customer\n",
    "customer_data_origin_year[\"Months since first transaction\"]  = (customer_data_origin_year[\"Transaction Year\"] - customer_data_origin_year[\"Origin Year\"] + 1)*12\n",
    "\n",
    "# Calculating the unique customers for each point in time\n",
    "intermediate = customer_data_origin_year[[\"Origin Year\", \"Months since first transaction\", \"CustomerID\"]].groupby([\"Origin Year\", \"Months since first transaction\"]).agg({\"CustomerID\": \"nunique\"}).reset_index()\n",
    "\n",
    "temp = intermediate[[\"Origin Year\", \"CustomerID\"]].groupby([\"Origin Year\"]).max().reset_index()\n",
    "\n",
    "final2 = pd.merge(intermediate, temp, how=\"left\", on = \"Origin Year\")\n",
    "\n",
    "# Changing the column names to reflect the date ranges\n",
    "convert = dict(zip([2010, 2011, 2012, 2013, 2014, 2015],['2010-01-01 - 2010-12-31','2011-01-01 - 2011-12-31','2012-01-01 - 2012-12-31','2013-01-01 - 2013-12-31','2014-01-01 - 2014-12-31','2015-01-01 - 2015-12-31']))\n",
    "final2[\"Origin Year\"] = final2[\"Origin Year\"].astype(\"category\")\n",
    "final2[\"Origin Year\"] = final2[\"Origin Year\"].cat.rename_categories(convert)\n",
    "\n"
   ]
  },
  {
   "cell_type": "code",
   "execution_count": 105,
   "metadata": {
    "ExecuteTime": {
     "end_time": "2020-09-16T19:15:39.599797Z",
     "start_time": "2020-09-16T19:15:39.569885Z"
    }
   },
   "outputs": [
    {
     "data": {
      "text/html": [
       "<div>\n",
       "<style scoped>\n",
       "    .dataframe tbody tr th:only-of-type {\n",
       "        vertical-align: middle;\n",
       "    }\n",
       "\n",
       "    .dataframe tbody tr th {\n",
       "        vertical-align: top;\n",
       "    }\n",
       "\n",
       "    .dataframe thead th {\n",
       "        text-align: right;\n",
       "    }\n",
       "</style>\n",
       "<table border=\"1\" class=\"dataframe\">\n",
       "  <thead>\n",
       "    <tr style=\"text-align: right;\">\n",
       "      <th>Months since first transaction</th>\n",
       "      <th>12</th>\n",
       "      <th>24</th>\n",
       "      <th>36</th>\n",
       "      <th>48</th>\n",
       "      <th>60</th>\n",
       "      <th>72</th>\n",
       "    </tr>\n",
       "    <tr>\n",
       "      <th>Origin Year</th>\n",
       "      <th></th>\n",
       "      <th></th>\n",
       "      <th></th>\n",
       "      <th></th>\n",
       "      <th></th>\n",
       "      <th></th>\n",
       "    </tr>\n",
       "  </thead>\n",
       "  <tbody>\n",
       "    <tr>\n",
       "      <td>2010-01-01 - 2010-12-31</td>\n",
       "      <td>172.0</td>\n",
       "      <td>172</td>\n",
       "      <td>172</td>\n",
       "      <td>172</td>\n",
       "      <td>172</td>\n",
       "      <td>172</td>\n",
       "    </tr>\n",
       "    <tr>\n",
       "      <td>2011-01-01 - 2011-12-31</td>\n",
       "      <td>170.0</td>\n",
       "      <td>170</td>\n",
       "      <td>170</td>\n",
       "      <td>170</td>\n",
       "      <td>170</td>\n",
       "      <td></td>\n",
       "    </tr>\n",
       "    <tr>\n",
       "      <td>2012-01-01 - 2012-12-31</td>\n",
       "      <td>163.0</td>\n",
       "      <td>163</td>\n",
       "      <td>163</td>\n",
       "      <td>163</td>\n",
       "      <td></td>\n",
       "      <td></td>\n",
       "    </tr>\n",
       "    <tr>\n",
       "      <td>2013-01-01 - 2013-12-31</td>\n",
       "      <td>180.0</td>\n",
       "      <td>180</td>\n",
       "      <td>180</td>\n",
       "      <td></td>\n",
       "      <td></td>\n",
       "      <td></td>\n",
       "    </tr>\n",
       "    <tr>\n",
       "      <td>2014-01-01 - 2014-12-31</td>\n",
       "      <td>155.0</td>\n",
       "      <td>155</td>\n",
       "      <td></td>\n",
       "      <td></td>\n",
       "      <td></td>\n",
       "      <td></td>\n",
       "    </tr>\n",
       "    <tr>\n",
       "      <td>2015-01-01 - 2015-12-31</td>\n",
       "      <td>160.0</td>\n",
       "      <td></td>\n",
       "      <td></td>\n",
       "      <td></td>\n",
       "      <td></td>\n",
       "      <td></td>\n",
       "    </tr>\n",
       "  </tbody>\n",
       "</table>\n",
       "</div>"
      ],
      "text/plain": [
       "Months since first transaction     12   24   36   48   60   72\n",
       "Origin Year                                                   \n",
       "2010-01-01 - 2010-12-31         172.0  172  172  172  172  172\n",
       "2011-01-01 - 2011-12-31         170.0  170  170  170  170     \n",
       "2012-01-01 - 2012-12-31         163.0  163  163  163          \n",
       "2013-01-01 - 2013-12-31         180.0  180  180               \n",
       "2014-01-01 - 2014-12-31         155.0  155                    \n",
       "2015-01-01 - 2015-12-31         160.0                         "
      ]
     },
     "execution_count": 105,
     "metadata": {},
     "output_type": "execute_result"
    }
   ],
   "source": [
    "round(final2.pivot_table(index='Origin Year', columns='Months since first transaction', values='CustomerID_y', fill_value = \"\"), 0)"
   ]
  },
  {
   "cell_type": "markdown",
   "metadata": {
    "ExecuteTime": {
     "end_time": "2020-09-10T02:29:26.964530Z",
     "start_time": "2020-09-10T02:29:26.954482Z"
    }
   },
   "source": [
    "# Step 6: Finding the historic value"
   ]
  },
  {
   "cell_type": "code",
   "execution_count": 87,
   "metadata": {
    "ExecuteTime": {
     "end_time": "2020-09-16T18:40:29.093435Z",
     "start_time": "2020-09-16T18:40:29.061265Z"
    }
   },
   "outputs": [
    {
     "data": {
      "text/html": [
       "<div>\n",
       "<style scoped>\n",
       "    .dataframe tbody tr th:only-of-type {\n",
       "        vertical-align: middle;\n",
       "    }\n",
       "\n",
       "    .dataframe tbody tr th {\n",
       "        vertical-align: top;\n",
       "    }\n",
       "\n",
       "    .dataframe thead th {\n",
       "        text-align: right;\n",
       "    }\n",
       "</style>\n",
       "<table border=\"1\" class=\"dataframe\">\n",
       "  <thead>\n",
       "    <tr style=\"text-align: right;\">\n",
       "      <th>Months since first transaction</th>\n",
       "      <th>12</th>\n",
       "      <th>24</th>\n",
       "      <th>36</th>\n",
       "      <th>48</th>\n",
       "      <th>60</th>\n",
       "      <th>72</th>\n",
       "    </tr>\n",
       "    <tr>\n",
       "      <th>Origin Year</th>\n",
       "      <th></th>\n",
       "      <th></th>\n",
       "      <th></th>\n",
       "      <th></th>\n",
       "      <th></th>\n",
       "      <th></th>\n",
       "    </tr>\n",
       "  </thead>\n",
       "  <tbody>\n",
       "    <tr>\n",
       "      <td>2010-01-01 - 2010-12-31</td>\n",
       "      <td>13.14</td>\n",
       "      <td>21.02</td>\n",
       "      <td>30.67</td>\n",
       "      <td>38.56</td>\n",
       "      <td>46.11</td>\n",
       "      <td>52.12</td>\n",
       "    </tr>\n",
       "    <tr>\n",
       "      <td>2011-01-01 - 2011-12-31</td>\n",
       "      <td>13.17</td>\n",
       "      <td>22.1</td>\n",
       "      <td>32.15</td>\n",
       "      <td>39.42</td>\n",
       "      <td>46.24</td>\n",
       "      <td></td>\n",
       "    </tr>\n",
       "    <tr>\n",
       "      <td>2012-01-01 - 2012-12-31</td>\n",
       "      <td>13.38</td>\n",
       "      <td>23.77</td>\n",
       "      <td>32.07</td>\n",
       "      <td>39.89</td>\n",
       "      <td></td>\n",
       "      <td></td>\n",
       "    </tr>\n",
       "    <tr>\n",
       "      <td>2013-01-01 - 2013-12-31</td>\n",
       "      <td>12.11</td>\n",
       "      <td>20.05</td>\n",
       "      <td>29.04</td>\n",
       "      <td></td>\n",
       "      <td></td>\n",
       "      <td></td>\n",
       "    </tr>\n",
       "    <tr>\n",
       "      <td>2014-01-01 - 2014-12-31</td>\n",
       "      <td>11.81</td>\n",
       "      <td>21.05</td>\n",
       "      <td></td>\n",
       "      <td></td>\n",
       "      <td></td>\n",
       "      <td></td>\n",
       "    </tr>\n",
       "    <tr>\n",
       "      <td>2015-01-01 - 2015-12-31</td>\n",
       "      <td>11.95</td>\n",
       "      <td></td>\n",
       "      <td></td>\n",
       "      <td></td>\n",
       "      <td></td>\n",
       "      <td></td>\n",
       "    </tr>\n",
       "  </tbody>\n",
       "</table>\n",
       "</div>"
      ],
      "text/plain": [
       "Months since first transaction     12     24     36     48     60     72\n",
       "Origin Year                                                             \n",
       "2010-01-01 - 2010-12-31         13.14  21.02  30.67  38.56  46.11  52.12\n",
       "2011-01-01 - 2011-12-31         13.17   22.1  32.15  39.42  46.24       \n",
       "2012-01-01 - 2012-12-31         13.38  23.77  32.07  39.89              \n",
       "2013-01-01 - 2013-12-31         12.11  20.05  29.04                     \n",
       "2014-01-01 - 2014-12-31         11.81  21.05                            \n",
       "2015-01-01 - 2015-12-31         11.95                                   "
      ]
     },
     "execution_count": 87,
     "metadata": {},
     "output_type": "execute_result"
    }
   ],
   "source": [
    "clv = pd.merge(final1, final2, how = \"inner\", on = [\"Origin Year\", \"Months since first transaction\"])\n",
    "\n",
    "# Dividing the value by count of customers to get the average amount spent by the customer in each group\n",
    "clv[\"Historic value\"] = round(clv[\"Amount\"]/ clv[\"CustomerID_y\"],2)\n",
    "\n",
    "clv.pivot_table(index='Origin Year', columns='Months since first transaction', values='Historic value', fill_value = \"\")\n"
   ]
  },
  {
   "cell_type": "code",
   "execution_count": 73,
   "metadata": {
    "ExecuteTime": {
     "end_time": "2020-09-16T17:11:06.051739Z",
     "start_time": "2020-09-16T17:11:05.722818Z"
    }
   },
   "outputs": [
    {
     "data": {
      "text/plain": [
       "[Text(0, 0.5, 'Historic CLV'),\n",
       " Text(0.5, 0, 'Age'),\n",
       " Text(0.5, 1.0, 'Customer Historic value over time')]"
      ]
     },
     "execution_count": 73,
     "metadata": {},
     "output_type": "execute_result"
    },
    {
     "data": {
      "image/png": "[encoded data removed]",
      "text/plain": [
       "<Figure size 1080x1080 with 1 Axes>"
      ]
     },
     "metadata": {
      "needs_background": "light"
     },
     "output_type": "display_data"
    }
   ],
   "source": [
    "plt.figure(figsize = (15,15))\n",
    "plt.grid()\n",
    "clv['Months since first transaction'] = clv['Months since first transaction'].astype(\"str\")\n",
    "\n",
    "g = sns.lineplot(data= clv, x = 'Months since first transaction', y = \"Historic value\", hue = \"Origin Year\", marker = \"o\" );\n",
    "\n",
    "g.set(title = \"Customer Historic value over time\", xlabel = \"Age\", ylabel = \"Historic CLV\")\n"
   ]
  },
  {
   "cell_type": "code",
   "execution_count": 106,
   "metadata": {
    "ExecuteTime": {
     "end_time": "2020-09-16T19:19:24.220293Z",
     "start_time": "2020-09-16T19:19:24.207813Z"
    }
   },
   "outputs": [
    {
     "data": {
      "text/html": [
       "<div>\n",
       "<style scoped>\n",
       "    .dataframe tbody tr th:only-of-type {\n",
       "        vertical-align: middle;\n",
       "    }\n",
       "\n",
       "    .dataframe tbody tr th {\n",
       "        vertical-align: top;\n",
       "    }\n",
       "\n",
       "    .dataframe thead th {\n",
       "        text-align: right;\n",
       "    }\n",
       "</style>\n",
       "<table border=\"1\" class=\"dataframe\">\n",
       "  <thead>\n",
       "    <tr style=\"text-align: right;\">\n",
       "      <th></th>\n",
       "      <th>HistoricCLV</th>\n",
       "    </tr>\n",
       "    <tr>\n",
       "      <th>Age</th>\n",
       "      <th></th>\n",
       "    </tr>\n",
       "  </thead>\n",
       "  <tbody>\n",
       "    <tr>\n",
       "      <td>12</td>\n",
       "      <td>12.59</td>\n",
       "    </tr>\n",
       "    <tr>\n",
       "      <td>24</td>\n",
       "      <td>21.60</td>\n",
       "    </tr>\n",
       "    <tr>\n",
       "      <td>36</td>\n",
       "      <td>30.98</td>\n",
       "    </tr>\n",
       "    <tr>\n",
       "      <td>48</td>\n",
       "      <td>39.29</td>\n",
       "    </tr>\n",
       "    <tr>\n",
       "      <td>60</td>\n",
       "      <td>46.18</td>\n",
       "    </tr>\n",
       "    <tr>\n",
       "      <td>72</td>\n",
       "      <td>52.12</td>\n",
       "    </tr>\n",
       "  </tbody>\n",
       "</table>\n",
       "</div>"
      ],
      "text/plain": [
       "     HistoricCLV\n",
       "Age             \n",
       "12         12.59\n",
       "24         21.60\n",
       "36         30.98\n",
       "48         39.29\n",
       "60         46.18\n",
       "72         52.12"
      ]
     },
     "execution_count": 106,
     "metadata": {},
     "output_type": "execute_result"
    }
   ],
   "source": [
    "# Calculating the average value for historic CLv for each group\n",
    "ans3 = round(clv[[\"Historic value\", \"Months since first transaction\"]].groupby(\"Months since first transaction\").mean(), 2).reset_index()\n",
    "\n",
    "ans3.columns = [\"Age\", \"HistoricCLV\"]\n",
    "\n",
    "ans3.groupby(\"Age\").mean()"
   ]
  },
  {
   "cell_type": "markdown",
   "metadata": {},
   "source": [
    "## How much have customers acquired in 2011 spent to date?\n",
    "\n",
    "- The amount spent by the customers acquired in 2011 is \\\\$ 7861.24. \n",
    "\n",
    "- The historic CLV for the group is \\\\$ 46.24.This means that on average, each customer acquired in 2011 has spent \\\\$ 46.24 in the store. The number of such customers is 170."
   ]
  },
  {
   "cell_type": "markdown",
   "metadata": {},
   "source": [
    "## Do each group of customers exhibit similar or different patterns of spending? What’s the implication for the business?"
   ]
  },
  {
   "cell_type": "markdown",
   "metadata": {},
   "source": [
    "- According to the graphs, the customer spend the same amount of money irrespective of the year they arrived in the system \n",
    "- The store might want to spend more on marketing to improve sales. The business is staying fairly constant over time in terms of the sales. \n",
    "- Therefore, the store should account for inflation and increase marketing to encourage customers to spend more.\n",
    "\n"
   ]
  },
  {
   "cell_type": "code",
   "execution_count": null,
   "metadata": {},
   "outputs": [],
   "source": []
  }
 ],
 "metadata": {
  "hide_input": false,
  "kernelspec": {
   "display_name": "Python 3",
   "language": "python",
   "name": "python3"
  },
  "language_info": {
   "codemirror_mode": {
    "name": "ipython",
    "version": 3
   },
   "file_extension": ".py",
   "mimetype": "text/x-python",
   "name": "python",
   "nbconvert_exporter": "python",
   "pygments_lexer": "ipython3",
   "version": "3.7.4"
  },
  "toc": {
   "base_numbering": 1,
   "nav_menu": {},
   "number_sections": true,
   "sideBar": true,
   "skip_h1_title": false,
   "title_cell": "Table of Contents",
   "title_sidebar": "Contents",
   "toc_cell": false,
   "toc_position": {},
   "toc_section_display": true,
   "toc_window_display": true
  }
 },
 "nbformat": 4,
 "nbformat_minor": 2
}
